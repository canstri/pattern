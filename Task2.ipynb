{
 "cells": [
  {
   "cell_type": "code",
   "execution_count": 5,
   "metadata": {},
   "outputs": [
    {
     "name": "stdout",
     "output_type": "stream",
     "text": [
      "Max: 0.35\n"
     ]
    }
   ],
   "source": [
    "from pyDatalog import pyDatalog as pyd\n",
    "\n",
    "def func(b1 ,b2 ,b3): \n",
    "    return max(0.6*b1, 0.4*b2, 0.7*b3) \n",
    "'''\n",
    "func counts max number\n",
    "'''\n",
    "\n",
    "p = [[0.5,0.2,0.4], [0.5,0.7,0.1],[0.2,0.5,0.5]] \n",
    "ans = 0 \n",
    "\n",
    "for i in p: \n",
    "    ans = max(ans, func(i[0], i[1], i[2])) \n",
    "    \n",
    "    '''\n",
    "    we count max of the maxs\n",
    "    '''\n",
    "    \n",
    "\n",
    "print(\"Max:\", ans)"
   ]
  },
  {
   "cell_type": "code",
   "execution_count": null,
   "metadata": {},
   "outputs": [],
   "source": []
  },
  {
   "cell_type": "code",
   "execution_count": null,
   "metadata": {},
   "outputs": [],
   "source": []
  }
 ],
 "metadata": {
  "kernelspec": {
   "display_name": "Python 3",
   "language": "python",
   "name": "python3"
  },
  "language_info": {
   "codemirror_mode": {
    "name": "ipython",
    "version": 3
   },
   "file_extension": ".py",
   "mimetype": "text/x-python",
   "name": "python",
   "nbconvert_exporter": "python",
   "pygments_lexer": "ipython3",
   "version": "3.6.3"
  }
 },
 "nbformat": 4,
 "nbformat_minor": 2
}
