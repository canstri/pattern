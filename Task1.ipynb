{
 "cells": [
  {
   "cell_type": "code",
   "execution_count": null,
   "metadata": {},
   "outputs": [],
   "source": [
    "from pyDatalog import pyDatalog\n",
    "from pyDatalog import pyEngine\n",
    "'''\n",
    "\n",
    "'''\n",
    "def and1(a, b):\n",
    "    return (a and b)\n",
    "def eq(a, b):\n",
    "    if(a == b):\n",
    "        return 1\n",
    "    else:\n",
    "        return 0\n",
    "    \n",
    "def third(a, b):\n",
    "    return( (not(a) or b) and (not(b) or a) )\n",
    "def fourth(a, b):\n",
    "    return( (a or (b and not(a))) or (a or not(b or a)) )\n",
    "\n",
    "\n",
    "\n",
    "pyDatalog.create_terms('a, b, X, Y, Z, task, eq')\n",
    "print('Task 1.1')\n",
    "print(X.in_(range(2)) & Y.in_(range(2)) & (Z == eq(1, Y)))\n",
    "print()\n",
    "\n",
    "print('Task 1.2')\n",
    "print(X.in_(range(2)) & Y.in_(range(2)) & (Z == and1(X, Y)))\n",
    "print()\n",
    "\n",
    "print('Task 1.3')\n",
    "print( (X.in_(range(2)) & Y.in_(range(2)) & (Z == third(X,Y))))\n",
    "print()\n",
    "\n",
    "print('Task 1.4')\n",
    "print( (X.in_(range(2)) & Y.in_(range(2)) & (Z == fourth(X,Y))))\n",
    "print()\n",
    "\n",
    "\n",
    "\n",
    "\n",
    "\n",
    "\n"
   ]
  }
 ],
 "metadata": {
  "kernelspec": {
   "display_name": "Python 3",
   "language": "python",
   "name": "python3"
  },
  "language_info": {
   "codemirror_mode": {
    "name": "ipython",
    "version": 3
   },
   "file_extension": ".py",
   "mimetype": "text/x-python",
   "name": "python",
   "nbconvert_exporter": "python",
   "pygments_lexer": "ipython3",
   "version": "3.6.3"
  }
 },
 "nbformat": 4,
 "nbformat_minor": 2
}
