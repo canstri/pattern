{
 "cells": [
  {
   "cell_type": "code",
   "execution_count": 4,
   "metadata": {},
   "outputs": [
    {
     "name": "stdout",
     "output_type": "stream",
     "text": [
      "ok\n"
     ]
    }
   ],
   "source": [
    "from pyDatalog import pyDatalog\n",
    "from pyDatalog import pyEngine\n",
    "pyDatalog.create_terms('X,Y,Z,U,W, marriage,father,grandfather')\n",
    "+marriage(1, 2)\n",
    "+marriage(3, 4)\n",
    "\n",
    "'''\n",
    "marriage - link that shows two person in marriage\n",
    "father(a, b) means that a is father of b\n",
    "grandfather(a, b) means that a is grandfather of b\n",
    "1 is I\n",
    "2 is my wife\n",
    "3 is my father\n",
    "4 is my stepdaughter\n",
    "5 is my son\n",
    "6 is son of my step daughter\n",
    "'''\n",
    "\n",
    "marriage(X,Y) <= marriage(Y,X)\n",
    "+father(1, 5)\n",
    "+father(3, 6)\n",
    "+father(4, 6)\n",
    "+father(2, 5)\n",
    "+father(3, 1)\n",
    "+father(2, 4)\n",
    "\n",
    "father(X,Y) <= father(X, Y)\n",
    "\n",
    "father(Z, Y) <= father(X, Y) & marriage(X, Z)\n",
    "grandfather(X, Y) <= father(Z, Y) & father(X, Z)\n",
    "if(grandfather(1, 1)):\n",
    "    print('ok')"
   ]
  },
  {
   "cell_type": "code",
   "execution_count": null,
   "metadata": {},
   "outputs": [],
   "source": []
  },
  {
   "cell_type": "code",
   "execution_count": null,
   "metadata": {},
   "outputs": [],
   "source": []
  }
 ],
 "metadata": {
  "kernelspec": {
   "display_name": "Python 3",
   "language": "python",
   "name": "python3"
  },
  "language_info": {
   "codemirror_mode": {
    "name": "ipython",
    "version": 3
   },
   "file_extension": ".py",
   "mimetype": "text/x-python",
   "name": "python",
   "nbconvert_exporter": "python",
   "pygments_lexer": "ipython3",
   "version": "3.6.3"
  }
 },
 "nbformat": 4,
 "nbformat_minor": 2
}
